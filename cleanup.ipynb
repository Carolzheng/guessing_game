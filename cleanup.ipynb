{
 "cells": [
  {
   "cell_type": "code",
   "execution_count": 2,
   "metadata": {},
   "outputs": [
    {
     "name": "stdout",
     "output_type": "stream",
     "text": [
      "Unique singers: 1\n"
     ]
    }
   ],
   "source": [
    "import json\n",
    "import re\n",
    "\n",
    "unique_singers = set()\n",
    "keep_singer  = ['张信哲']\n",
    "def contains_english_characters(lyrics):\n",
    "    cond = any(re.search(r'[a-zA-Z]', line) for line in lyrics)\n",
    "\n",
    "\n",
    "def clean_lyrics(input_file, output_file):\n",
    "    with open(input_file, 'r', encoding='utf-8') as f:\n",
    "        data = json.load(f)\n",
    "    data = [song for song in data if not contains_english_characters(song['lyric'])]\n",
    "\n",
    "    if keep_singer:\n",
    "        data = [song for song in data if song['singer'] in keep_singer]\n",
    "    for song in data:\n",
    "        cleaned_lyrics = []\n",
    "        unique_singers.add(song['singer'])\n",
    "        for line in song['lyric']:\n",
    "            if line == \"\":\n",
    "                continue\n",
    "            if not re.match(r'主歌\\d?|副歌\\d?|间奏|过渡\\d?|结尾|副歌 啦啦啦大合唱|作词|作曲|编曲|演唱|和声|后期', line):\n",
    "                cleaned_lyrics.append(line)\n",
    "        song['lyric'] = cleaned_lyrics\n",
    "\n",
    "    with open(output_file, 'w', encoding='utf-8') as f:\n",
    "        json.dump(data, f, ensure_ascii=False, indent=4)\n",
    "\n",
    "input_file = 'data/lyrics.json'\n",
    "output_file = 'data/cleaned_lyrics.json'\n",
    "clean_lyrics(input_file, output_file)\n",
    "print(f'Unique singers: {len(unique_singers)}')"
   ]
  },
  {
   "cell_type": "code",
   "execution_count": 6,
   "metadata": {},
   "outputs": [
    {
     "data": {
      "text/plain": [
       "{'None',\n",
       " '凤飞飞',\n",
       " '刘德华',\n",
       " '刘紫玲',\n",
       " '区瑞强',\n",
       " '卓依婷',\n",
       " '古巨基',\n",
       " '周华健',\n",
       " '孙露',\n",
       " '容祖儿',\n",
       " '张信哲',\n",
       " '张国荣',\n",
       " '张学友',\n",
       " '徐小凤',\n",
       " '李克勤',\n",
       " '李翊君',\n",
       " '杜德伟',\n",
       " '杨千嬅',\n",
       " '林子祥',\n",
       " '林忆莲',\n",
       " '梅艳芳',\n",
       " '洛天依',\n",
       " '王菲',\n",
       " '甄妮',\n",
       " '童丽',\n",
       " '蔡幸娟',\n",
       " '蔡琴',\n",
       " '许冠杰',\n",
       " '许志安',\n",
       " '谭咏麟',\n",
       " '费玉清',\n",
       " '邓丽君',\n",
       " '郑冰冰',\n",
       " '郑秀文',\n",
       " '郭富城',\n",
       " '钟镇涛',\n",
       " '阿佳',\n",
       " '陈奕迅',\n",
       " '陈慧琳',\n",
       " '韩宝仪',\n",
       " '高胜美',\n",
       " '黄乙玲',\n",
       " '黄莺莺',\n",
       " '黎明',\n",
       " '龙飘飘',\n",
       " '龚玥'}"
      ]
     },
     "execution_count": 6,
     "metadata": {},
     "output_type": "execute_result"
    }
   ],
   "source": [
    "unique_singers"
   ]
  }
 ],
 "metadata": {
  "kernelspec": {
   "display_name": "base",
   "language": "python",
   "name": "python3"
  },
  "language_info": {
   "codemirror_mode": {
    "name": "ipython",
    "version": 3
   },
   "file_extension": ".py",
   "mimetype": "text/x-python",
   "name": "python",
   "nbconvert_exporter": "python",
   "pygments_lexer": "ipython3",
   "version": "3.9.12"
  }
 },
 "nbformat": 4,
 "nbformat_minor": 2
}
